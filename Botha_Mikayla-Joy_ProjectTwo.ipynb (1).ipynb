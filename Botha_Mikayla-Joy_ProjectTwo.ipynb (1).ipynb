{
 "cells": [
  {
   "cell_type": "markdown",
   "metadata": {},
   "source": [
    "# Treasure Hunt Game Notebook\n",
    "\n",
    "## Read and Review Your Starter Code\n",
    "The theme of this project is a popular treasure hunt game in which the player needs to find the treasure before the pirate does. While you will not be developing the entire game, you will write the part of the game that represents the intelligent agent, which is a pirate in this case. The pirate will try to find the optimal path to the treasure using deep Q-learning. \n",
    "\n",
    "You have been provided with two Python classes and this notebook to help you with this assignment. The first class, TreasureMaze.py, represents the environment, which includes a maze object defined as a matrix. The second class, GameExperience.py, stores the episodes – that is, all the states that come in between the initial state and the terminal state. This is later used by the agent for learning by experience, called \"exploration\". This notebook shows how to play a game. Your task is to complete the deep Q-learning implementation for which a skeleton implementation has been provided. The code blocks you will need to complete has #TODO as a header.\n",
    "\n",
    "First, read and review the next few code and instruction blocks to understand the code that you have been given."
   ]
  },
  {
   "cell_type": "code",
   "execution_count": 69,
   "metadata": {},
   "outputs": [],
   "source": [
    "from __future__ import print_function\n",
    "import os, sys, time, datetime, json, random\n",
    "import numpy as np\n",
    "from keras.models import Sequential\n",
    "from keras.layers.core import Dense, Activation\n",
    "from keras.optimizers import SGD , Adam, RMSprop\n",
    "from keras.layers.advanced_activations import PReLU\n",
    "import matplotlib.pyplot as plt\n",
    "from TreasureMaze import TreasureMaze\n",
    "from GameExperience import GameExperience\n",
    "%matplotlib inline"
   ]
  },
  {
   "cell_type": "markdown",
   "metadata": {},
   "source": [
    "The following code block contains an 8x8 matrix that will be used as a maze object:"
   ]
  },
  {
   "cell_type": "code",
   "execution_count": 70,
   "metadata": {},
   "outputs": [],
   "source": [
    "maze = np.array([\n",
    "    [ 1.,  0.,  1.,  1.,  1.,  1.,  1.,  1.],\n",
    "    [ 1.,  0.,  1.,  1.,  1.,  0.,  1.,  1.],\n",
    "    [ 1.,  1.,  1.,  1.,  0.,  1.,  0.,  1.],\n",
    "    [ 1.,  1.,  1.,  0.,  1.,  1.,  1.,  1.],\n",
    "    [ 1.,  1.,  0.,  1.,  1.,  1.,  1.,  1.],\n",
    "    [ 1.,  1.,  1.,  0.,  1.,  0.,  0.,  0.],\n",
    "    [ 1.,  1.,  1.,  0.,  1.,  1.,  1.,  1.],\n",
    "    [ 1.,  1.,  1.,  1.,  0.,  1.,  1.,  1.]\n",
    "])"
   ]
  },
  {
   "cell_type": "markdown",
   "metadata": {},
   "source": [
    "This helper function allows a visual representation of the maze object:"
   ]
  },
  {
   "cell_type": "code",
   "execution_count": 71,
   "metadata": {},
   "outputs": [],
   "source": [
    "def show(qmaze):\n",
    "    plt.grid('on')\n",
    "    nrows, ncols = qmaze.maze.shape\n",
    "    ax = plt.gca()\n",
    "    ax.set_xticks(np.arange(0.5, nrows, 1))\n",
    "    ax.set_yticks(np.arange(0.5, ncols, 1))\n",
    "    ax.set_xticklabels([])\n",
    "    ax.set_yticklabels([])\n",
    "    canvas = np.copy(qmaze.maze)\n",
    "    for row,col in qmaze.visited:\n",
    "        canvas[row,col] = 0.6\n",
    "    pirate_row, pirate_col, _ = qmaze.state\n",
    "    canvas[pirate_row, pirate_col] = 0.3   # pirate cell\n",
    "    canvas[nrows-1, ncols-1] = 0.9 # treasure cell\n",
    "    img = plt.imshow(canvas, interpolation='none', cmap='gray')\n",
    "    return img"
   ]
  },
  {
   "cell_type": "markdown",
   "metadata": {},
   "source": [
    "The pirate agent can move in four directions: left, right, up, and down. \n",
    "\n",
    "While the agent primarily learns by experience through exploitation, often, the agent can choose to explore the environment to find previously undiscovered paths. This is called \"exploration\" and is defined by epsilon. This value is typically a lower value such as 0.1, which means for every ten attempts, the agent will attempt to learn by experience nine times and will randomly explore a new path one time. You are encouraged to try various values for the exploration factor and see how the algorithm performs."
   ]
  },
  {
   "cell_type": "code",
   "execution_count": 72,
   "metadata": {},
   "outputs": [],
   "source": [
    "LEFT = 0\n",
    "UP = 1\n",
    "RIGHT = 2\n",
    "DOWN = 3\n",
    "\n",
    "\n",
    "# Exploration factor\n",
    "epsilon = 0.1\n",
    "\n",
    "# Actions dictionary\n",
    "actions_dict = {\n",
    "    LEFT: 'left',\n",
    "    UP: 'up',\n",
    "    RIGHT: 'right',\n",
    "    DOWN: 'down',\n",
    "}\n",
    "\n",
    "num_actions = len(actions_dict)\n"
   ]
  },
  {
   "cell_type": "markdown",
   "metadata": {},
   "source": [
    "The sample code block and output below show creating a maze object and performing one action (DOWN), which returns the reward. The resulting updated environment is visualized."
   ]
  },
  {
   "cell_type": "code",
   "execution_count": 73,
   "metadata": {},
   "outputs": [
    {
     "name": "stdout",
     "output_type": "stream",
     "text": [
      "reward= -0.04\n"
     ]
    },
    {
     "data": {
      "text/plain": [
       "<matplotlib.image.AxesImage at 0x20d9179e888>"
      ]
     },
     "execution_count": 73,
     "metadata": {},
     "output_type": "execute_result"
    },
    {
     "data": {
      "image/png": "[encoded data removed]",
      "text/plain": [
       "<Figure size 432x288 with 1 Axes>"
      ]
     },
     "metadata": {
      "needs_background": "light"
     },
     "output_type": "display_data"
    }
   ],
   "source": [
    "qmaze = TreasureMaze(maze)\n",
    "canvas, reward, game_over = qmaze.act(DOWN)\n",
    "print(\"reward=\", reward)\n",
    "show(qmaze)"
   ]
  },
  {
   "cell_type": "markdown",
   "metadata": {},
   "source": [
    "This function simulates a full game based on the provided trained model. The other parameters include the TreasureMaze object and the starting position of the pirate."
   ]
  },
  {
   "cell_type": "code",
   "execution_count": 74,
   "metadata": {},
   "outputs": [],
   "source": [
    "def play_game(model, qmaze, pirate_cell):\n",
    "    qmaze.reset(pirate_cell)\n",
    "    envstate = qmaze.observe()\n",
    "    while True:\n",
    "        prev_envstate = envstate\n",
    "        # get next action\n",
    "        q = model.predict(prev_envstate)\n",
    "        action = np.argmax(q[0])\n",
    "\n",
    "        # apply action, get rewards and new state\n",
    "        envstate, reward, game_status = qmaze.act(action)\n",
    "        if game_status == 'win':\n",
    "            return True\n",
    "        elif game_status == 'lose':\n",
    "            return False"
   ]
  },
  {
   "cell_type": "markdown",
   "metadata": {},
   "source": [
    "This function helps you to determine whether the pirate can win any game at all. If your maze is not well designed, the pirate may not win any game at all. In this case, your training would not yield any result. The provided maze in this notebook ensures that there is a path to win and you can run this method to check."
   ]
  },
  {
   "cell_type": "code",
   "execution_count": 75,
   "metadata": {},
   "outputs": [],
   "source": [
    "def completion_check(model, qmaze):\n",
    "    for cell in qmaze.free_cells:\n",
    "        if not qmaze.valid_actions(cell):\n",
    "            return False\n",
    "        if not play_game(model, qmaze, cell):\n",
    "            return False\n",
    "    return True"
   ]
  },
  {
   "cell_type": "markdown",
   "metadata": {},
   "source": [
    "The code you have been given in this block will build the neural network model. Review the code and note the number of layers, as well as the activation, optimizer, and loss functions that are used to train the model."
   ]
  },
  {
   "cell_type": "code",
   "execution_count": 76,
   "metadata": {},
   "outputs": [],
   "source": [
    "def build_model(maze):\n",
    "    model = Sequential()\n",
    "    model.add(Dense(maze.size, input_shape=(maze.size,)))\n",
    "    model.add(PReLU())\n",
    "    model.add(Dense(maze.size))\n",
    "    model.add(PReLU())\n",
    "    model.add(Dense(num_actions))\n",
    "    model.compile(optimizer='adam', loss='mse')\n",
    "    return model"
   ]
  },
  {
   "cell_type": "markdown",
   "metadata": {},
   "source": [
    "# #TODO: Complete the Q-Training Algorithm Code Block\n",
    "\n",
    "This is your deep Q-learning implementation. The goal of your deep Q-learning implementation is to find the best possible navigation sequence that results in reaching the treasure cell while maximizing the reward. In your implementation, you need to determine the optimal number of epochs to achieve a 100% win rate.\n",
    "\n",
    "You will need to complete the section starting with #pseudocode. The pseudocode has been included for you."
   ]
  },
  {
   "cell_type": "code",
   "execution_count": 77,
   "metadata": {},
   "outputs": [],
   "source": [
    "def qtrain(model, maze, **opt):\n",
    "    # Try statement handles potential exceptions during training, to avoid crashes.\n",
    "    try:\n",
    "        # exploration factor\n",
    "        global epsilon \n",
    "        \n",
    "        # number of epochs\n",
    "        n_epoch = opt.get('n_epoch', 15000)\n",
    "        \n",
    "        # maximum memory to store episodes\n",
    "        max_memory = opt.get('max_memory', 1000)\n",
    "        \n",
    "        # maximum data size for training\n",
    "        data_size = opt.get('data_size', 50)\n",
    "        \n",
    "        # start time\n",
    "        start_time = datetime.datetime.now()\n",
    "        \n",
    "        # Construct environment/game from numpy array: maze (see above)\n",
    "        qmaze = TreasureMaze(maze)\n",
    "        \n",
    "        # Initialize experience replay object\n",
    "        experience = GameExperience(model, max_memory=max_memory)\n",
    "        \n",
    "        win_history = []   # history of win/lose game\n",
    "        hsize = qmaze.maze.size // 2   # history window size\n",
    "        win_rate = 0.0\n",
    "        \n",
    "        # pseudocode: \n",
    "        # For each epoch:\n",
    "        #    Agent_cell = randomly select a free cell\n",
    "        #    Reset the maze with agent set to above position\n",
    "        #    Hint: Review the reset method in the TreasureMaze.py class.\n",
    "        #    envstate = Environment.current_state\n",
    "        #    Hint: Review the observe method in the TreasureMaze.py class.\n",
    "        #    While state is not game over:\n",
    "        #        previous_envstate = envstate\n",
    "        #        Action = randomly choose action (left, right, up, down) either by exploration or by exploitation\n",
    "        #        envstate, reward, game_status = qmaze.act(action)\n",
    "        #    Hint: Review the act method in the TreasureMaze.py class.\n",
    "        #        episode = [previous_envstate, action, reward, envstate, game_status]\n",
    "        #        Store episode in Experience replay object\n",
    "        #    Hint: Review the remember method in the GameExperience.py class.\n",
    "        #        Train neural network model and evaluate loss\n",
    "        #    Hint: Call GameExperience.get_data to retrieve training data (input and target) and pass to model.fit method \n",
    "        #          to train the model. You can call model.evaluate to determine loss.\n",
    "        #    If the win rate is above the threshold and your model passes the completion check, that would be your epoch.      \n",
    "        \n",
    "    \n",
    "        ####################################################\n",
    "        # CODE IMPLEMENTATION FOR THE PROVIDED PSUEDOCODE #\n",
    "        ####################################################\n",
    "        # For each epoch\n",
    "        for epoch in range(n_epoch):\n",
    "            # Randomly select a free cell as agent_cell\n",
    "            agent_cell = random.choice(qmaze.free_cells)\n",
    "            \n",
    "            # Reset the maze with agent set to above position\n",
    "            qmaze.reset(agent_cell)\n",
    "            \n",
    "            # Environment state\n",
    "            envstate = qmaze.observe()\n",
    "            \n",
    "            # Initialize variables for this epoch\n",
    "            n_episodes = 0\n",
    "            loss = 0.0\n",
    "            \n",
    "            # While state is not game over\n",
    "            while True:\n",
    "                # Previous environment state\n",
    "                previous_envstate = envstate\n",
    "                \n",
    "                # Randomly choose action (left, right, up, down) either by exploration or exploitation\n",
    "                if np.random.rand() < epsilon:\n",
    "                    action = np.random.randint(0, num_actions)\n",
    "                else:\n",
    "                    q = model.predict(previous_envstate)\n",
    "                    action = np.argmax(q[0])\n",
    "                    \n",
    "                # Perform action, get rewards and new state\n",
    "                envstate, reward, game_status = qmaze.act(action)\n",
    "                \n",
    "                # Store episode in Experience replay object\n",
    "                episode = [previous_envstate, action, reward, envstate, game_status]\n",
    "                experience.remember(episode)\n",
    "                \n",
    "                # Increment episode count\n",
    "                n_episodes += 1\n",
    "                \n",
    "                # Train neural network model and evaluate loss\n",
    "                inputs, targets = experience.get_data(data_size=data_size)\n",
    "                loss += model.train_on_batch(inputs, targets)\n",
    "                \n",
    "                # If the game is over, break the loop\n",
    "                if game_status != 'not_over':\n",
    "                    break\n",
    "            \n",
    "            # Append win/lose game status to win_history\n",
    "            win_history.append(1 if game_status == 'win' else 0)\n",
    "            \n",
    "            # Calculate win rate\n",
    "            win_rate = sum(win_history) / len(win_history)\n",
    "            \n",
    "            # Print epoch statistics\n",
    "            dt = datetime.datetime.now() - start_time\n",
    "            t = format_time(dt.total_seconds())\n",
    "            template = f\"Epoch: {epoch:03d}/{n_epoch-1} | Loss: {loss:.4f} | Episodes: {n_episodes} | Win count: {sum(win_history)} | Win rate: {win_rate:.3f} | Time: {t}\"\n",
    "            print(template)\n",
    "            \n",
    "            # Adjust exploration factor if win rate is high\n",
    "            if win_rate > 0.9:\n",
    "                epsilon = 0.05\n",
    "            \n",
    "            # Check for 100% win rate and completion of maze\n",
    "            if sum(win_history[-hsize:]) == hsize and completion_check(model, qmaze):\n",
    "                print(f\"Reached 100% win rate at epoch: {epoch}\")\n",
    "                break\n",
    "        \n",
    "        # Total time for training\n",
    "        dt = datetime.datetime.now() - start_time\n",
    "        seconds = dt.total_seconds()\n",
    "        t = format_time(seconds)\n",
    "\n",
    "        # Print training statistics including number of epochs, maximum memory size, data size, and time taken\n",
    "        print(f\"n_epoch: {epoch}, max_mem: {max_memory}, data: {data_size}, time: {t}\")\n",
    "        return seconds   # Return the total time taken for training in seconds\n",
    "\n",
    "    # Used to handle any exceptions that occur during training and print an error messages\n",
    "    except Exception as e:\n",
    "        print(f\"An error occurred: {str(e)}\")\n",
    "\n"
   ]
  },
  {
   "cell_type": "markdown",
   "metadata": {},
   "source": [
    "## Test Your Model\n",
    "\n",
    "Now we will start testing the deep Q-learning implementation. To begin, select **Cell**, then **Run All** from the menu bar. This will run your notebook. As it runs, you should see output begin to appear beneath the next few cells. The code below creates an instance of TreasureMaze."
   ]
  },
  {
   "cell_type": "code",
   "execution_count": 78,
   "metadata": {},
   "outputs": [
    {
     "data": {
      "text/plain": [
       "<matplotlib.image.AxesImage at 0x20d917a4bc8>"
      ]
     },
     "execution_count": 78,
     "metadata": {},
     "output_type": "execute_result"
    },
    {
     "data": {
      "image/png": "[encoded data removed]",
      "text/plain": [
       "<Figure size 432x288 with 1 Axes>"
      ]
     },
     "metadata": {
      "needs_background": "light"
     },
     "output_type": "display_data"
    }
   ],
   "source": [
    "qmaze = TreasureMaze(maze)\n",
    "show(qmaze)"
   ]
  },
  {
   "cell_type": "markdown",
   "metadata": {},
   "source": [
    "In the next code block, you will build your model and train it using deep Q-learning. Note: This step takes several minutes to fully run."
   ]
  },
  {
   "cell_type": "code",
   "execution_count": 79,
   "metadata": {},
   "outputs": [
    {
     "name": "stdout",
     "output_type": "stream",
     "text": [
      "Epoch: 000/14999 | Loss: 3.3028 | Episodes: 139 | Win count: 0 | Win rate: 0.000 | Time: 14.5 seconds\n",
      "Epoch: 001/14999 | Loss: 0.1280 | Episodes: 134 | Win count: 0 | Win rate: 0.000 | Time: 30.2 seconds\n",
      "Epoch: 002/14999 | Loss: 0.1385 | Episodes: 139 | Win count: 0 | Win rate: 0.000 | Time: 44.3 seconds\n",
      "Epoch: 003/14999 | Loss: 0.0900 | Episodes: 130 | Win count: 0 | Win rate: 0.000 | Time: 57.2 seconds\n",
      "Epoch: 004/14999 | Loss: 0.0675 | Episodes: 133 | Win count: 0 | Win rate: 0.000 | Time: 69.7 seconds\n",
      "Epoch: 005/14999 | Loss: 0.0588 | Episodes: 133 | Win count: 0 | Win rate: 0.000 | Time: 82.5 seconds\n",
      "Epoch: 006/14999 | Loss: 0.0564 | Episodes: 139 | Win count: 0 | Win rate: 0.000 | Time: 96.4 seconds\n",
      "Epoch: 007/14999 | Loss: 0.0966 | Episodes: 139 | Win count: 0 | Win rate: 0.000 | Time: 109.7 seconds\n",
      "Epoch: 008/14999 | Loss: 0.1029 | Episodes: 138 | Win count: 0 | Win rate: 0.000 | Time: 123.7 seconds\n",
      "Epoch: 009/14999 | Loss: 0.1310 | Episodes: 139 | Win count: 0 | Win rate: 0.000 | Time: 137.1 seconds\n",
      "Epoch: 010/14999 | Loss: 0.1504 | Episodes: 145 | Win count: 0 | Win rate: 0.000 | Time: 151.3 seconds\n",
      "Epoch: 011/14999 | Loss: 0.1323 | Episodes: 139 | Win count: 0 | Win rate: 0.000 | Time: 165.3 seconds\n",
      "Epoch: 012/14999 | Loss: 0.1677 | Episodes: 146 | Win count: 0 | Win rate: 0.000 | Time: 179.4 seconds\n",
      "Epoch: 013/14999 | Loss: 0.1575 | Episodes: 135 | Win count: 0 | Win rate: 0.000 | Time: 193.0 seconds\n",
      "Epoch: 014/14999 | Loss: 0.1600 | Episodes: 138 | Win count: 0 | Win rate: 0.000 | Time: 207.0 seconds\n",
      "Epoch: 015/14999 | Loss: 0.1544 | Episodes: 145 | Win count: 0 | Win rate: 0.000 | Time: 221.2 seconds\n",
      "Epoch: 016/14999 | Loss: 0.1565 | Episodes: 141 | Win count: 0 | Win rate: 0.000 | Time: 234.4 seconds\n",
      "Epoch: 017/14999 | Loss: 0.1458 | Episodes: 136 | Win count: 0 | Win rate: 0.000 | Time: 247.6 seconds\n",
      "Epoch: 018/14999 | Loss: 0.1791 | Episodes: 150 | Win count: 0 | Win rate: 0.000 | Time: 263.0 seconds\n",
      "Epoch: 019/14999 | Loss: 0.1667 | Episodes: 144 | Win count: 0 | Win rate: 0.000 | Time: 279.8 seconds\n",
      "Epoch: 020/14999 | Loss: 0.1903 | Episodes: 148 | Win count: 0 | Win rate: 0.000 | Time: 297.4 seconds\n",
      "Epoch: 021/14999 | Loss: 0.1728 | Episodes: 139 | Win count: 0 | Win rate: 0.000 | Time: 314.4 seconds\n",
      "Epoch: 022/14999 | Loss: 0.1886 | Episodes: 149 | Win count: 0 | Win rate: 0.000 | Time: 332.6 seconds\n",
      "Epoch: 023/14999 | Loss: 0.1583 | Episodes: 139 | Win count: 0 | Win rate: 0.000 | Time: 346.3 seconds\n",
      "Epoch: 024/14999 | Loss: 0.1467 | Episodes: 137 | Win count: 0 | Win rate: 0.000 | Time: 359.5 seconds\n",
      "Epoch: 025/14999 | Loss: 0.1509 | Episodes: 146 | Win count: 0 | Win rate: 0.000 | Time: 373.3 seconds\n",
      "Epoch: 026/14999 | Loss: 0.1427 | Episodes: 139 | Win count: 0 | Win rate: 0.000 | Time: 389.0 seconds\n",
      "Epoch: 027/14999 | Loss: 0.1297 | Episodes: 139 | Win count: 0 | Win rate: 0.000 | Time: 6.71 minutes\n",
      "Epoch: 028/14999 | Loss: 0.0820 | Episodes: 84 | Win count: 1 | Win rate: 0.034 | Time: 6.84 minutes\n",
      "Epoch: 029/14999 | Loss: 0.1637 | Episodes: 142 | Win count: 1 | Win rate: 0.033 | Time: 7.06 minutes\n",
      "Epoch: 030/14999 | Loss: 0.2499 | Episodes: 149 | Win count: 1 | Win rate: 0.032 | Time: 7.31 minutes\n",
      "Epoch: 031/14999 | Loss: 0.1616 | Episodes: 81 | Win count: 2 | Win rate: 0.062 | Time: 7.45 minutes\n",
      "Epoch: 032/14999 | Loss: 0.0269 | Episodes: 13 | Win count: 3 | Win rate: 0.091 | Time: 7.48 minutes\n",
      "Epoch: 033/14999 | Loss: 0.1427 | Episodes: 38 | Win count: 4 | Win rate: 0.118 | Time: 7.55 minutes\n",
      "Epoch: 034/14999 | Loss: 0.5340 | Episodes: 142 | Win count: 4 | Win rate: 0.114 | Time: 7.86 minutes\n",
      "Epoch: 035/14999 | Loss: 0.2295 | Episodes: 57 | Win count: 5 | Win rate: 0.139 | Time: 8.01 minutes\n",
      "Epoch: 036/14999 | Loss: 0.4987 | Episodes: 135 | Win count: 5 | Win rate: 0.135 | Time: 8.33 minutes\n",
      "Epoch: 037/14999 | Loss: 0.1829 | Episodes: 58 | Win count: 6 | Win rate: 0.158 | Time: 8.47 minutes\n",
      "Epoch: 038/14999 | Loss: 0.2768 | Episodes: 52 | Win count: 7 | Win rate: 0.179 | Time: 8.60 minutes\n",
      "Epoch: 039/14999 | Loss: 0.4824 | Episodes: 147 | Win count: 7 | Win rate: 0.175 | Time: 8.91 minutes\n",
      "Epoch: 040/14999 | Loss: 0.4740 | Episodes: 139 | Win count: 7 | Win rate: 0.171 | Time: 9.15 minutes\n",
      "Epoch: 041/14999 | Loss: 0.3748 | Episodes: 139 | Win count: 7 | Win rate: 0.167 | Time: 9.42 minutes\n",
      "Epoch: 042/14999 | Loss: 0.2072 | Episodes: 74 | Win count: 8 | Win rate: 0.186 | Time: 9.62 minutes\n",
      "Epoch: 043/14999 | Loss: 0.2089 | Episodes: 135 | Win count: 8 | Win rate: 0.182 | Time: 9.97 minutes\n",
      "Epoch: 044/14999 | Loss: 0.2113 | Episodes: 144 | Win count: 8 | Win rate: 0.178 | Time: 10.31 minutes\n",
      "Epoch: 045/14999 | Loss: 0.2139 | Episodes: 142 | Win count: 8 | Win rate: 0.174 | Time: 10.63 minutes\n",
      "Epoch: 046/14999 | Loss: 0.1679 | Episodes: 129 | Win count: 8 | Win rate: 0.170 | Time: 10.88 minutes\n",
      "Epoch: 047/14999 | Loss: 0.1381 | Episodes: 147 | Win count: 8 | Win rate: 0.167 | Time: 11.17 minutes\n",
      "Epoch: 048/14999 | Loss: 0.1071 | Episodes: 132 | Win count: 8 | Win rate: 0.163 | Time: 11.44 minutes\n",
      "Epoch: 049/14999 | Loss: 0.0761 | Episodes: 105 | Win count: 9 | Win rate: 0.180 | Time: 11.70 minutes\n",
      "Epoch: 050/14999 | Loss: 0.1358 | Episodes: 117 | Win count: 10 | Win rate: 0.196 | Time: 11.96 minutes\n",
      "Epoch: 051/14999 | Loss: 0.3328 | Episodes: 161 | Win count: 11 | Win rate: 0.212 | Time: 12.27 minutes\n",
      "Epoch: 052/14999 | Loss: 0.3680 | Episodes: 139 | Win count: 11 | Win rate: 0.208 | Time: 12.55 minutes\n",
      "Epoch: 053/14999 | Loss: 0.2361 | Episodes: 137 | Win count: 11 | Win rate: 0.204 | Time: 12.83 minutes\n",
      "Epoch: 054/14999 | Loss: 0.0247 | Episodes: 15 | Win count: 12 | Win rate: 0.218 | Time: 12.86 minutes\n",
      "Epoch: 055/14999 | Loss: 0.2012 | Episodes: 134 | Win count: 12 | Win rate: 0.214 | Time: 13.13 minutes\n",
      "Epoch: 056/14999 | Loss: 0.1559 | Episodes: 139 | Win count: 12 | Win rate: 0.211 | Time: 13.40 minutes\n",
      "Epoch: 057/14999 | Loss: 0.0041 | Episodes: 4 | Win count: 13 | Win rate: 0.224 | Time: 13.41 minutes\n",
      "Epoch: 058/14999 | Loss: 0.0003 | Episodes: 1 | Win count: 14 | Win rate: 0.237 | Time: 13.42 minutes\n",
      "Epoch: 059/14999 | Loss: 0.0087 | Episodes: 9 | Win count: 15 | Win rate: 0.250 | Time: 13.43 minutes\n",
      "Epoch: 060/14999 | Loss: 0.0097 | Episodes: 12 | Win count: 16 | Win rate: 0.262 | Time: 13.47 minutes\n",
      "Epoch: 061/14999 | Loss: 0.1390 | Episodes: 139 | Win count: 16 | Win rate: 0.258 | Time: 13.75 minutes\n",
      "Epoch: 062/14999 | Loss: 0.0169 | Episodes: 23 | Win count: 17 | Win rate: 0.270 | Time: 13.80 minutes\n",
      "Epoch: 063/14999 | Loss: 0.1570 | Episodes: 141 | Win count: 17 | Win rate: 0.266 | Time: 14.10 minutes\n",
      "Epoch: 064/14999 | Loss: 0.1316 | Episodes: 135 | Win count: 17 | Win rate: 0.262 | Time: 14.37 minutes\n",
      "Epoch: 065/14999 | Loss: 0.1088 | Episodes: 139 | Win count: 17 | Win rate: 0.258 | Time: 14.73 minutes\n",
      "Epoch: 066/14999 | Loss: 0.0237 | Episodes: 38 | Win count: 18 | Win rate: 0.269 | Time: 14.83 minutes\n",
      "Epoch: 067/14999 | Loss: 0.0141 | Episodes: 15 | Win count: 19 | Win rate: 0.279 | Time: 14.86 minutes\n",
      "Epoch: 068/14999 | Loss: 0.1055 | Episodes: 137 | Win count: 19 | Win rate: 0.275 | Time: 15.21 minutes\n",
      "Epoch: 069/14999 | Loss: 0.0128 | Episodes: 19 | Win count: 20 | Win rate: 0.286 | Time: 15.26 minutes\n",
      "Epoch: 070/14999 | Loss: 0.0023 | Episodes: 3 | Win count: 21 | Win rate: 0.296 | Time: 15.27 minutes\n",
      "Epoch: 071/14999 | Loss: 0.1017 | Episodes: 136 | Win count: 21 | Win rate: 0.292 | Time: 15.60 minutes\n",
      "Epoch: 072/14999 | Loss: 0.0095 | Episodes: 14 | Win count: 22 | Win rate: 0.301 | Time: 15.64 minutes\n",
      "Epoch: 073/14999 | Loss: 0.1054 | Episodes: 134 | Win count: 22 | Win rate: 0.297 | Time: 15.91 minutes\n",
      "Epoch: 074/14999 | Loss: 0.0980 | Episodes: 136 | Win count: 22 | Win rate: 0.293 | Time: 16.19 minutes\n",
      "Epoch: 075/14999 | Loss: 0.1026 | Episodes: 139 | Win count: 22 | Win rate: 0.289 | Time: 16.48 minutes\n",
      "Epoch: 076/14999 | Loss: 0.1042 | Episodes: 143 | Win count: 22 | Win rate: 0.286 | Time: 16.77 minutes\n",
      "Epoch: 077/14999 | Loss: 0.0101 | Episodes: 14 | Win count: 23 | Win rate: 0.295 | Time: 16.80 minutes\n",
      "Epoch: 078/14999 | Loss: 0.0108 | Episodes: 13 | Win count: 24 | Win rate: 0.304 | Time: 16.83 minutes\n",
      "Epoch: 079/14999 | Loss: 0.0145 | Episodes: 17 | Win count: 25 | Win rate: 0.312 | Time: 16.86 minutes\n",
      "Epoch: 080/14999 | Loss: 0.0059 | Episodes: 8 | Win count: 26 | Win rate: 0.321 | Time: 16.88 minutes\n",
      "Epoch: 081/14999 | Loss: 0.1470 | Episodes: 146 | Win count: 26 | Win rate: 0.317 | Time: 17.18 minutes\n",
      "Epoch: 082/14999 | Loss: 0.1449 | Episodes: 138 | Win count: 26 | Win rate: 0.313 | Time: 17.46 minutes\n",
      "Epoch: 083/14999 | Loss: 0.0276 | Episodes: 31 | Win count: 27 | Win rate: 0.321 | Time: 17.53 minutes\n",
      "Epoch: 084/14999 | Loss: 0.1424 | Episodes: 139 | Win count: 27 | Win rate: 0.318 | Time: 17.82 minutes\n",
      "Epoch: 085/14999 | Loss: 0.1376 | Episodes: 144 | Win count: 27 | Win rate: 0.314 | Time: 18.10 minutes\n",
      "Epoch: 086/14999 | Loss: 0.1409 | Episodes: 144 | Win count: 27 | Win rate: 0.310 | Time: 18.40 minutes\n",
      "Epoch: 087/14999 | Loss: 0.0132 | Episodes: 15 | Win count: 28 | Win rate: 0.318 | Time: 18.43 minutes\n",
      "Epoch: 088/14999 | Loss: 0.0034 | Episodes: 3 | Win count: 29 | Win rate: 0.326 | Time: 18.44 minutes\n",
      "Epoch: 089/14999 | Loss: 0.1300 | Episodes: 136 | Win count: 29 | Win rate: 0.322 | Time: 18.73 minutes\n",
      "Epoch: 090/14999 | Loss: 0.1155 | Episodes: 140 | Win count: 29 | Win rate: 0.319 | Time: 19.01 minutes\n",
      "Epoch: 091/14999 | Loss: 0.1139 | Episodes: 137 | Win count: 29 | Win rate: 0.315 | Time: 19.28 minutes\n",
      "Epoch: 092/14999 | Loss: 0.0129 | Episodes: 18 | Win count: 30 | Win rate: 0.323 | Time: 19.31 minutes\n",
      "Epoch: 093/14999 | Loss: 0.0091 | Episodes: 10 | Win count: 31 | Win rate: 0.330 | Time: 19.33 minutes\n",
      "Epoch: 094/14999 | Loss: 0.0056 | Episodes: 4 | Win count: 32 | Win rate: 0.337 | Time: 19.34 minutes\n",
      "Epoch: 095/14999 | Loss: 0.1220 | Episodes: 137 | Win count: 32 | Win rate: 0.333 | Time: 19.68 minutes\n",
      "Epoch: 096/14999 | Loss: 0.0092 | Episodes: 13 | Win count: 33 | Win rate: 0.340 | Time: 19.71 minutes\n",
      "Epoch: 097/14999 | Loss: 0.0343 | Episodes: 45 | Win count: 34 | Win rate: 0.347 | Time: 19.82 minutes\n",
      "Epoch: 098/14999 | Loss: 0.1005 | Episodes: 134 | Win count: 34 | Win rate: 0.343 | Time: 20.16 minutes\n",
      "Epoch: 099/14999 | Loss: 0.0084 | Episodes: 10 | Win count: 35 | Win rate: 0.350 | Time: 20.18 minutes\n",
      "Epoch: 100/14999 | Loss: 0.0899 | Episodes: 135 | Win count: 35 | Win rate: 0.347 | Time: 20.52 minutes\n",
      "Epoch: 101/14999 | Loss: 0.0782 | Episodes: 141 | Win count: 35 | Win rate: 0.343 | Time: 20.82 minutes\n",
      "Epoch: 102/14999 | Loss: 0.0747 | Episodes: 136 | Win count: 35 | Win rate: 0.340 | Time: 21.09 minutes\n",
      "Epoch: 103/14999 | Loss: 0.0003 | Episodes: 1 | Win count: 36 | Win rate: 0.346 | Time: 21.09 minutes\n",
      "Epoch: 104/14999 | Loss: 0.0078 | Episodes: 13 | Win count: 37 | Win rate: 0.352 | Time: 21.11 minutes\n",
      "Epoch: 105/14999 | Loss: 0.0868 | Episodes: 137 | Win count: 37 | Win rate: 0.349 | Time: 21.39 minutes\n",
      "Epoch: 106/14999 | Loss: 0.1047 | Episodes: 139 | Win count: 37 | Win rate: 0.346 | Time: 21.69 minutes\n",
      "Epoch: 107/14999 | Loss: 0.0066 | Episodes: 9 | Win count: 38 | Win rate: 0.352 | Time: 21.70 minutes\n",
      "Epoch: 108/14999 | Loss: 0.0005 | Episodes: 1 | Win count: 39 | Win rate: 0.358 | Time: 21.70 minutes\n",
      "Epoch: 109/14999 | Loss: 0.0359 | Episodes: 50 | Win count: 40 | Win rate: 0.364 | Time: 21.81 minutes\n",
      "Epoch: 110/14999 | Loss: 0.1506 | Episodes: 133 | Win count: 40 | Win rate: 0.360 | Time: 22.07 minutes\n",
      "Epoch: 111/14999 | Loss: 0.1663 | Episodes: 140 | Win count: 40 | Win rate: 0.357 | Time: 22.35 minutes\n",
      "Epoch: 112/14999 | Loss: 0.0506 | Episodes: 32 | Win count: 41 | Win rate: 0.363 | Time: 22.41 minutes\n",
      "Epoch: 113/14999 | Loss: 0.1494 | Episodes: 139 | Win count: 41 | Win rate: 0.360 | Time: 22.68 minutes\n",
      "Epoch: 114/14999 | Loss: 0.0027 | Episodes: 3 | Win count: 42 | Win rate: 0.365 | Time: 22.69 minutes\n",
      "Epoch: 115/14999 | Loss: 0.1343 | Episodes: 144 | Win count: 42 | Win rate: 0.362 | Time: 22.98 minutes\n",
      "Epoch: 116/14999 | Loss: 0.1115 | Episodes: 133 | Win count: 42 | Win rate: 0.359 | Time: 23.23 minutes\n",
      "Epoch: 117/14999 | Loss: 0.1019 | Episodes: 139 | Win count: 42 | Win rate: 0.356 | Time: 23.52 minutes\n",
      "Epoch: 118/14999 | Loss: 0.1046 | Episodes: 140 | Win count: 42 | Win rate: 0.353 | Time: 23.80 minutes\n",
      "Epoch: 119/14999 | Loss: 0.0928 | Episodes: 135 | Win count: 42 | Win rate: 0.350 | Time: 24.08 minutes\n",
      "Epoch: 120/14999 | Loss: 0.0991 | Episodes: 139 | Win count: 42 | Win rate: 0.347 | Time: 24.37 minutes\n",
      "Epoch: 121/14999 | Loss: 0.1110 | Episodes: 142 | Win count: 42 | Win rate: 0.344 | Time: 24.73 minutes\n",
      "Epoch: 122/14999 | Loss: 0.0858 | Episodes: 132 | Win count: 42 | Win rate: 0.341 | Time: 25.04 minutes\n",
      "Epoch: 123/14999 | Loss: 0.0227 | Episodes: 36 | Win count: 43 | Win rate: 0.347 | Time: 25.13 minutes\n",
      "Epoch: 124/14999 | Loss: 0.1568 | Episodes: 141 | Win count: 43 | Win rate: 0.344 | Time: 25.48 minutes\n",
      "Epoch: 125/14999 | Loss: 0.0946 | Episodes: 93 | Win count: 44 | Win rate: 0.349 | Time: 25.67 minutes\n",
      "Epoch: 126/14999 | Loss: 0.1539 | Episodes: 140 | Win count: 44 | Win rate: 0.346 | Time: 25.94 minutes\n",
      "Epoch: 127/14999 | Loss: 0.0165 | Episodes: 17 | Win count: 45 | Win rate: 0.352 | Time: 25.97 minutes\n",
      "Epoch: 128/14999 | Loss: 0.1571 | Episodes: 113 | Win count: 46 | Win rate: 0.357 | Time: 26.20 minutes\n",
      "Epoch: 129/14999 | Loss: 0.2797 | Episodes: 147 | Win count: 46 | Win rate: 0.354 | Time: 26.50 minutes\n",
      "Epoch: 130/14999 | Loss: 0.2145 | Episodes: 139 | Win count: 46 | Win rate: 0.351 | Time: 26.78 minutes\n",
      "Epoch: 131/14999 | Loss: 0.0083 | Episodes: 7 | Win count: 47 | Win rate: 0.356 | Time: 26.80 minutes\n",
      "Epoch: 132/14999 | Loss: 0.1640 | Episodes: 137 | Win count: 47 | Win rate: 0.353 | Time: 27.07 minutes\n",
      "Epoch: 133/14999 | Loss: 0.1616 | Episodes: 145 | Win count: 47 | Win rate: 0.351 | Time: 27.37 minutes\n",
      "Epoch: 134/14999 | Loss: 0.0073 | Episodes: 9 | Win count: 48 | Win rate: 0.356 | Time: 27.39 minutes\n",
      "Epoch: 135/14999 | Loss: 0.1219 | Episodes: 136 | Win count: 48 | Win rate: 0.353 | Time: 27.66 minutes\n",
      "Epoch: 136/14999 | Loss: 0.0111 | Episodes: 13 | Win count: 49 | Win rate: 0.358 | Time: 27.68 minutes\n",
      "Epoch: 137/14999 | Loss: 0.0080 | Episodes: 12 | Win count: 50 | Win rate: 0.362 | Time: 27.71 minutes\n",
      "Epoch: 138/14999 | Loss: 0.1137 | Episodes: 139 | Win count: 50 | Win rate: 0.360 | Time: 27.98 minutes\n",
      "Epoch: 139/14999 | Loss: 0.1098 | Episodes: 142 | Win count: 50 | Win rate: 0.357 | Time: 28.25 minutes\n",
      "Epoch: 140/14999 | Loss: 0.0940 | Episodes: 139 | Win count: 50 | Win rate: 0.355 | Time: 28.54 minutes\n",
      "Epoch: 141/14999 | Loss: 0.0942 | Episodes: 137 | Win count: 50 | Win rate: 0.352 | Time: 28.81 minutes\n",
      "Epoch: 142/14999 | Loss: 0.0961 | Episodes: 140 | Win count: 50 | Win rate: 0.350 | Time: 29.08 minutes\n",
      "Epoch: 143/14999 | Loss: 0.1084 | Episodes: 142 | Win count: 50 | Win rate: 0.347 | Time: 29.36 minutes\n",
      "Epoch: 144/14999 | Loss: 0.1160 | Episodes: 139 | Win count: 50 | Win rate: 0.345 | Time: 29.71 minutes\n",
      "Epoch: 145/14999 | Loss: 0.1338 | Episodes: 138 | Win count: 50 | Win rate: 0.342 | Time: 30.05 minutes\n",
      "Epoch: 146/14999 | Loss: 0.0150 | Episodes: 18 | Win count: 51 | Win rate: 0.347 | Time: 30.09 minutes\n",
      "Epoch: 147/14999 | Loss: 0.0064 | Episodes: 8 | Win count: 52 | Win rate: 0.351 | Time: 30.11 minutes\n",
      "Epoch: 148/14999 | Loss: 0.1578 | Episodes: 138 | Win count: 52 | Win rate: 0.349 | Time: 30.47 minutes\n",
      "Epoch: 149/14999 | Loss: 0.1204 | Episodes: 138 | Win count: 52 | Win rate: 0.347 | Time: 30.77 minutes\n",
      "Epoch: 150/14999 | Loss: 0.0113 | Episodes: 16 | Win count: 53 | Win rate: 0.351 | Time: 30.80 minutes\n",
      "Epoch: 151/14999 | Loss: 0.0011 | Episodes: 1 | Win count: 54 | Win rate: 0.355 | Time: 30.81 minutes\n",
      "Epoch: 152/14999 | Loss: 0.0052 | Episodes: 6 | Win count: 55 | Win rate: 0.359 | Time: 30.82 minutes\n",
      "Epoch: 153/14999 | Loss: 0.0227 | Episodes: 23 | Win count: 56 | Win rate: 0.364 | Time: 30.87 minutes\n",
      "Epoch: 154/14999 | Loss: 0.1205 | Episodes: 136 | Win count: 56 | Win rate: 0.361 | Time: 31.14 minutes\n",
      "Epoch: 155/14999 | Loss: 0.1382 | Episodes: 142 | Win count: 56 | Win rate: 0.359 | Time: 31.41 minutes\n",
      "Epoch: 156/14999 | Loss: 0.1018 | Episodes: 136 | Win count: 56 | Win rate: 0.357 | Time: 31.70 minutes\n",
      "Epoch: 157/14999 | Loss: 0.0019 | Episodes: 2 | Win count: 57 | Win rate: 0.361 | Time: 31.70 minutes\n",
      "Epoch: 158/14999 | Loss: 0.0212 | Episodes: 31 | Win count: 58 | Win rate: 0.365 | Time: 31.76 minutes\n",
      "Epoch: 159/14999 | Loss: 0.1086 | Episodes: 139 | Win count: 58 | Win rate: 0.362 | Time: 32.04 minutes\n",
      "Epoch: 160/14999 | Loss: 0.0502 | Episodes: 71 | Win count: 59 | Win rate: 0.366 | Time: 32.18 minutes\n",
      "Epoch: 161/14999 | Loss: 0.0005 | Episodes: 1 | Win count: 60 | Win rate: 0.370 | Time: 32.18 minutes\n",
      "Epoch: 162/14999 | Loss: 0.0016 | Episodes: 2 | Win count: 61 | Win rate: 0.374 | Time: 32.19 minutes\n",
      "Epoch: 163/14999 | Loss: 0.0874 | Episodes: 139 | Win count: 61 | Win rate: 0.372 | Time: 32.45 minutes\n",
      "Epoch: 164/14999 | Loss: 0.0991 | Episodes: 140 | Win count: 61 | Win rate: 0.370 | Time: 32.73 minutes\n",
      "Epoch: 165/14999 | Loss: 0.0076 | Episodes: 10 | Win count: 62 | Win rate: 0.373 | Time: 32.76 minutes\n",
      "Epoch: 166/14999 | Loss: 0.1190 | Episodes: 130 | Win count: 63 | Win rate: 0.377 | Time: 33.02 minutes\n",
      "Epoch: 167/14999 | Loss: 0.2132 | Episodes: 148 | Win count: 63 | Win rate: 0.375 | Time: 33.31 minutes\n",
      "Epoch: 168/14999 | Loss: 0.0023 | Episodes: 2 | Win count: 64 | Win rate: 0.379 | Time: 33.31 minutes\n",
      "Epoch: 169/14999 | Loss: 0.1578 | Episodes: 127 | Win count: 65 | Win rate: 0.382 | Time: 33.57 minutes\n",
      "Epoch: 170/14999 | Loss: 0.0073 | Episodes: 5 | Win count: 66 | Win rate: 0.386 | Time: 33.58 minutes\n",
      "Epoch: 171/14999 | Loss: 0.0843 | Episodes: 60 | Win count: 67 | Win rate: 0.390 | Time: 33.70 minutes\n",
      "Epoch: 172/14999 | Loss: 0.0183 | Episodes: 12 | Win count: 68 | Win rate: 0.393 | Time: 33.72 minutes\n",
      "Epoch: 173/14999 | Loss: 0.0847 | Episodes: 51 | Win count: 69 | Win rate: 0.397 | Time: 33.82 minutes\n",
      "Epoch: 174/14999 | Loss: 0.0050 | Episodes: 3 | Win count: 70 | Win rate: 0.400 | Time: 33.83 minutes\n",
      "Epoch: 175/14999 | Loss: 0.0727 | Episodes: 51 | Win count: 71 | Win rate: 0.403 | Time: 33.94 minutes\n",
      "Epoch: 176/14999 | Loss: 0.0366 | Episodes: 29 | Win count: 72 | Win rate: 0.407 | Time: 34.00 minutes\n",
      "Epoch: 177/14999 | Loss: 0.0132 | Episodes: 12 | Win count: 73 | Win rate: 0.410 | Time: 34.02 minutes\n",
      "Epoch: 178/14999 | Loss: 0.0878 | Episodes: 69 | Win count: 74 | Win rate: 0.413 | Time: 34.16 minutes\n",
      "Epoch: 179/14999 | Loss: 0.0012 | Episodes: 1 | Win count: 75 | Win rate: 0.417 | Time: 34.16 minutes\n",
      "Epoch: 180/14999 | Loss: 0.0498 | Episodes: 36 | Win count: 76 | Win rate: 0.420 | Time: 34.23 minutes\n",
      "Epoch: 181/14999 | Loss: 0.0463 | Episodes: 31 | Win count: 77 | Win rate: 0.423 | Time: 34.29 minutes\n",
      "Epoch: 182/14999 | Loss: 0.0155 | Episodes: 13 | Win count: 78 | Win rate: 0.426 | Time: 34.32 minutes\n",
      "Epoch: 183/14999 | Loss: 0.0085 | Episodes: 7 | Win count: 79 | Win rate: 0.429 | Time: 34.33 minutes\n",
      "Epoch: 184/14999 | Loss: 0.0223 | Episodes: 16 | Win count: 80 | Win rate: 0.432 | Time: 34.36 minutes\n",
      "Epoch: 185/14999 | Loss: 0.0198 | Episodes: 15 | Win count: 81 | Win rate: 0.435 | Time: 34.39 minutes\n",
      "Epoch: 186/14999 | Loss: 0.2221 | Episodes: 146 | Win count: 81 | Win rate: 0.433 | Time: 34.74 minutes\n",
      "Epoch: 187/14999 | Loss: 0.0372 | Episodes: 27 | Win count: 82 | Win rate: 0.436 | Time: 34.82 minutes\n",
      "Epoch: 188/14999 | Loss: 0.1172 | Episodes: 86 | Win count: 83 | Win rate: 0.439 | Time: 35.04 minutes\n",
      "Epoch: 189/14999 | Loss: 0.1514 | Episodes: 101 | Win count: 84 | Win rate: 0.442 | Time: 35.30 minutes\n",
      "Epoch: 190/14999 | Loss: 0.0091 | Episodes: 7 | Win count: 85 | Win rate: 0.445 | Time: 35.32 minutes\n",
      "Epoch: 191/14999 | Loss: 0.0142 | Episodes: 11 | Win count: 86 | Win rate: 0.448 | Time: 35.34 minutes\n",
      "Epoch: 192/14999 | Loss: 0.0459 | Episodes: 32 | Win count: 87 | Win rate: 0.451 | Time: 35.43 minutes\n",
      "Epoch: 193/14999 | Loss: 0.0346 | Episodes: 23 | Win count: 88 | Win rate: 0.454 | Time: 35.48 minutes\n",
      "Epoch: 194/14999 | Loss: 0.0721 | Episodes: 47 | Win count: 89 | Win rate: 0.456 | Time: 35.58 minutes\n",
      "Epoch: 195/14999 | Loss: 0.0208 | Episodes: 13 | Win count: 90 | Win rate: 0.459 | Time: 35.61 minutes\n",
      "Epoch: 196/14999 | Loss: 0.0034 | Episodes: 3 | Win count: 91 | Win rate: 0.462 | Time: 35.61 minutes\n",
      "Epoch: 197/14999 | Loss: 0.1177 | Episodes: 79 | Win count: 92 | Win rate: 0.465 | Time: 35.77 minutes\n",
      "Epoch: 198/14999 | Loss: 0.0140 | Episodes: 10 | Win count: 93 | Win rate: 0.467 | Time: 35.79 minutes\n",
      "Epoch: 199/14999 | Loss: 0.0993 | Episodes: 61 | Win count: 94 | Win rate: 0.470 | Time: 35.91 minutes\n",
      "Epoch: 200/14999 | Loss: 0.0205 | Episodes: 12 | Win count: 95 | Win rate: 0.473 | Time: 35.93 minutes\n",
      "Epoch: 201/14999 | Loss: 0.0608 | Episodes: 40 | Win count: 96 | Win rate: 0.475 | Time: 36.02 minutes\n",
      "Epoch: 202/14999 | Loss: 0.0498 | Episodes: 39 | Win count: 97 | Win rate: 0.478 | Time: 36.10 minutes\n",
      "Epoch: 203/14999 | Loss: 0.1211 | Episodes: 87 | Win count: 98 | Win rate: 0.480 | Time: 36.27 minutes\n",
      "Epoch: 204/14999 | Loss: 0.0064 | Episodes: 5 | Win count: 99 | Win rate: 0.483 | Time: 36.28 minutes\n",
      "Epoch: 205/14999 | Loss: 0.0008 | Episodes: 1 | Win count: 100 | Win rate: 0.485 | Time: 36.28 minutes\n",
      "Epoch: 206/14999 | Loss: 0.0635 | Episodes: 53 | Win count: 101 | Win rate: 0.488 | Time: 36.39 minutes\n",
      "Epoch: 207/14999 | Loss: 0.0275 | Episodes: 21 | Win count: 102 | Win rate: 0.490 | Time: 36.44 minutes\n",
      "Epoch: 208/14999 | Loss: 0.1170 | Episodes: 99 | Win count: 103 | Win rate: 0.493 | Time: 36.63 minutes\n",
      "Epoch: 209/14999 | Loss: 0.0383 | Episodes: 35 | Win count: 104 | Win rate: 0.495 | Time: 36.70 minutes\n",
      "Epoch: 210/14999 | Loss: 0.0276 | Episodes: 24 | Win count: 105 | Win rate: 0.498 | Time: 36.75 minutes\n",
      "Epoch: 211/14999 | Loss: 0.0434 | Episodes: 36 | Win count: 106 | Win rate: 0.500 | Time: 36.83 minutes\n",
      "Epoch: 212/14999 | Loss: 0.0285 | Episodes: 23 | Win count: 107 | Win rate: 0.502 | Time: 36.87 minutes\n",
      "Epoch: 213/14999 | Loss: 0.0372 | Episodes: 39 | Win count: 108 | Win rate: 0.505 | Time: 36.95 minutes\n",
      "Epoch: 214/14999 | Loss: 0.0286 | Episodes: 27 | Win count: 109 | Win rate: 0.507 | Time: 37.01 minutes\n",
      "Epoch: 215/14999 | Loss: 0.1385 | Episodes: 134 | Win count: 109 | Win rate: 0.505 | Time: 37.29 minutes\n",
      "Epoch: 216/14999 | Loss: 0.0204 | Episodes: 24 | Win count: 110 | Win rate: 0.507 | Time: 37.34 minutes\n",
      "Epoch: 217/14999 | Loss: 0.0083 | Episodes: 7 | Win count: 111 | Win rate: 0.509 | Time: 37.35 minutes\n",
      "Epoch: 218/14999 | Loss: 0.0655 | Episodes: 70 | Win count: 112 | Win rate: 0.511 | Time: 37.50 minutes\n",
      "Epoch: 219/14999 | Loss: 0.0267 | Episodes: 30 | Win count: 113 | Win rate: 0.514 | Time: 37.56 minutes\n",
      "Epoch: 220/14999 | Loss: 0.0345 | Episodes: 36 | Win count: 114 | Win rate: 0.516 | Time: 37.63 minutes\n",
      "Epoch: 221/14999 | Loss: 0.0167 | Episodes: 18 | Win count: 115 | Win rate: 0.518 | Time: 37.67 minutes\n",
      "Epoch: 222/14999 | Loss: 0.0142 | Episodes: 13 | Win count: 116 | Win rate: 0.520 | Time: 37.69 minutes\n",
      "Epoch: 223/14999 | Loss: 0.0025 | Episodes: 2 | Win count: 117 | Win rate: 0.522 | Time: 37.69 minutes\n",
      "Epoch: 224/14999 | Loss: 0.0141 | Episodes: 11 | Win count: 118 | Win rate: 0.524 | Time: 37.71 minutes\n",
      "Epoch: 225/14999 | Loss: 0.0130 | Episodes: 15 | Win count: 119 | Win rate: 0.527 | Time: 37.74 minutes\n",
      "Epoch: 226/14999 | Loss: 0.0038 | Episodes: 3 | Win count: 120 | Win rate: 0.529 | Time: 37.75 minutes\n",
      "Epoch: 227/14999 | Loss: 0.0188 | Episodes: 20 | Win count: 121 | Win rate: 0.531 | Time: 37.79 minutes\n",
      "Epoch: 228/14999 | Loss: 0.0232 | Episodes: 29 | Win count: 122 | Win rate: 0.533 | Time: 37.85 minutes\n",
      "Epoch: 229/14999 | Loss: 0.0264 | Episodes: 33 | Win count: 123 | Win rate: 0.535 | Time: 37.91 minutes\n",
      "Epoch: 230/14999 | Loss: 0.0521 | Episodes: 51 | Win count: 124 | Win rate: 0.537 | Time: 38.01 minutes\n",
      "Epoch: 231/14999 | Loss: 0.0486 | Episodes: 43 | Win count: 125 | Win rate: 0.539 | Time: 38.09 minutes\n",
      "Epoch: 232/14999 | Loss: 0.0366 | Episodes: 35 | Win count: 126 | Win rate: 0.541 | Time: 38.16 minutes\n",
      "Epoch: 233/14999 | Loss: 0.0211 | Episodes: 19 | Win count: 127 | Win rate: 0.543 | Time: 38.21 minutes\n",
      "Epoch: 234/14999 | Loss: 0.0443 | Episodes: 38 | Win count: 128 | Win rate: 0.545 | Time: 38.29 minutes\n",
      "Epoch: 235/14999 | Loss: 0.0033 | Episodes: 3 | Win count: 129 | Win rate: 0.547 | Time: 38.30 minutes\n",
      "Epoch: 236/14999 | Loss: 0.0115 | Episodes: 11 | Win count: 130 | Win rate: 0.549 | Time: 38.32 minutes\n",
      "Epoch: 237/14999 | Loss: 0.0379 | Episodes: 31 | Win count: 131 | Win rate: 0.550 | Time: 38.39 minutes\n",
      "Epoch: 238/14999 | Loss: 0.0303 | Episodes: 27 | Win count: 132 | Win rate: 0.552 | Time: 38.44 minutes\n",
      "Epoch: 239/14999 | Loss: 0.0553 | Episodes: 47 | Win count: 133 | Win rate: 0.554 | Time: 38.54 minutes\n",
      "Epoch: 240/14999 | Loss: 0.0024 | Episodes: 2 | Win count: 134 | Win rate: 0.556 | Time: 38.54 minutes\n",
      "Epoch: 241/14999 | Loss: 0.0562 | Episodes: 46 | Win count: 135 | Win rate: 0.558 | Time: 38.63 minutes\n",
      "Epoch: 242/14999 | Loss: 0.0227 | Episodes: 20 | Win count: 136 | Win rate: 0.560 | Time: 38.68 minutes\n",
      "Epoch: 243/14999 | Loss: 0.0197 | Episodes: 17 | Win count: 137 | Win rate: 0.561 | Time: 38.71 minutes\n",
      "Epoch: 244/14999 | Loss: 0.1035 | Episodes: 80 | Win count: 138 | Win rate: 0.563 | Time: 38.87 minutes\n",
      "Epoch: 245/14999 | Loss: 0.0438 | Episodes: 34 | Win count: 139 | Win rate: 0.565 | Time: 38.94 minutes\n",
      "Epoch: 246/14999 | Loss: 0.0370 | Episodes: 29 | Win count: 140 | Win rate: 0.567 | Time: 38.99 minutes\n",
      "Epoch: 247/14999 | Loss: 0.0015 | Episodes: 1 | Win count: 141 | Win rate: 0.569 | Time: 39.00 minutes\n",
      "Epoch: 248/14999 | Loss: 0.0196 | Episodes: 15 | Win count: 142 | Win rate: 0.570 | Time: 39.03 minutes\n",
      "Epoch: 249/14999 | Loss: 0.0432 | Episodes: 35 | Win count: 143 | Win rate: 0.572 | Time: 39.10 minutes\n",
      "Epoch: 250/14999 | Loss: 0.0067 | Episodes: 6 | Win count: 144 | Win rate: 0.574 | Time: 39.12 minutes\n",
      "Epoch: 251/14999 | Loss: 0.0012 | Episodes: 2 | Win count: 145 | Win rate: 0.575 | Time: 39.12 minutes\n",
      "Epoch: 252/14999 | Loss: 0.0076 | Episodes: 7 | Win count: 146 | Win rate: 0.577 | Time: 39.14 minutes\n",
      "Epoch: 253/14999 | Loss: 0.0109 | Episodes: 10 | Win count: 147 | Win rate: 0.579 | Time: 39.16 minutes\n",
      "Epoch: 254/14999 | Loss: 0.0134 | Episodes: 14 | Win count: 148 | Win rate: 0.580 | Time: 39.19 minutes\n",
      "Epoch: 255/14999 | Loss: 0.1769 | Episodes: 140 | Win count: 148 | Win rate: 0.578 | Time: 39.52 minutes\n",
      "Epoch: 256/14999 | Loss: 0.0255 | Episodes: 22 | Win count: 149 | Win rate: 0.580 | Time: 39.59 minutes\n",
      "Epoch: 257/14999 | Loss: 0.0301 | Episodes: 23 | Win count: 150 | Win rate: 0.581 | Time: 39.64 minutes\n",
      "Epoch: 258/14999 | Loss: 0.0074 | Episodes: 7 | Win count: 151 | Win rate: 0.583 | Time: 39.66 minutes\n",
      "Epoch: 259/14999 | Loss: 0.0383 | Episodes: 34 | Win count: 152 | Win rate: 0.585 | Time: 39.76 minutes\n",
      "Epoch: 260/14999 | Loss: 0.0040 | Episodes: 5 | Win count: 153 | Win rate: 0.586 | Time: 39.77 minutes\n",
      "Epoch: 261/14999 | Loss: 0.0269 | Episodes: 22 | Win count: 154 | Win rate: 0.588 | Time: 39.83 minutes\n",
      "Epoch: 262/14999 | Loss: 0.0199 | Episodes: 15 | Win count: 155 | Win rate: 0.589 | Time: 39.86 minutes\n",
      "Epoch: 263/14999 | Loss: 0.0791 | Episodes: 69 | Win count: 156 | Win rate: 0.591 | Time: 40.04 minutes\n",
      "Epoch: 264/14999 | Loss: 0.0294 | Episodes: 29 | Win count: 157 | Win rate: 0.592 | Time: 40.11 minutes\n",
      "Epoch: 265/14999 | Loss: 0.0382 | Episodes: 40 | Win count: 158 | Win rate: 0.594 | Time: 40.22 minutes\n",
      "Epoch: 266/14999 | Loss: 0.0419 | Episodes: 36 | Win count: 159 | Win rate: 0.596 | Time: 40.31 minutes\n",
      "Epoch: 267/14999 | Loss: 0.0097 | Episodes: 9 | Win count: 160 | Win rate: 0.597 | Time: 40.33 minutes\n",
      "Epoch: 268/14999 | Loss: 0.0191 | Episodes: 17 | Win count: 161 | Win rate: 0.599 | Time: 40.37 minutes\n",
      "Epoch: 269/14999 | Loss: 0.0521 | Episodes: 47 | Win count: 162 | Win rate: 0.600 | Time: 40.49 minutes\n",
      "Epoch: 270/14999 | Loss: 0.0327 | Episodes: 30 | Win count: 163 | Win rate: 0.601 | Time: 40.56 minutes\n",
      "Epoch: 271/14999 | Loss: 0.0073 | Episodes: 6 | Win count: 164 | Win rate: 0.603 | Time: 40.57 minutes\n",
      "Epoch: 272/14999 | Loss: 0.0187 | Episodes: 18 | Win count: 165 | Win rate: 0.604 | Time: 40.61 minutes\n",
      "Epoch: 273/14999 | Loss: 0.0045 | Episodes: 5 | Win count: 166 | Win rate: 0.606 | Time: 40.62 minutes\n",
      "Epoch: 274/14999 | Loss: 0.0156 | Episodes: 15 | Win count: 167 | Win rate: 0.607 | Time: 40.65 minutes\n",
      "Epoch: 275/14999 | Loss: 0.0324 | Episodes: 34 | Win count: 168 | Win rate: 0.609 | Time: 40.71 minutes\n",
      "Epoch: 276/14999 | Loss: 0.0258 | Episodes: 25 | Win count: 169 | Win rate: 0.610 | Time: 40.76 minutes\n",
      "Epoch: 277/14999 | Loss: 0.0100 | Episodes: 12 | Win count: 170 | Win rate: 0.612 | Time: 40.78 minutes\n",
      "Epoch: 278/14999 | Loss: 0.0085 | Episodes: 8 | Win count: 171 | Win rate: 0.613 | Time: 40.80 minutes\n",
      "Epoch: 279/14999 | Loss: 0.0232 | Episodes: 24 | Win count: 172 | Win rate: 0.614 | Time: 40.84 minutes\n",
      "Epoch: 280/14999 | Loss: 0.0422 | Episodes: 44 | Win count: 173 | Win rate: 0.616 | Time: 40.94 minutes\n",
      "Epoch: 281/14999 | Loss: 0.0142 | Episodes: 15 | Win count: 174 | Win rate: 0.617 | Time: 40.96 minutes\n",
      "Epoch: 282/14999 | Loss: 0.0160 | Episodes: 18 | Win count: 175 | Win rate: 0.618 | Time: 41.00 minutes\n",
      "Epoch: 283/14999 | Loss: 0.0287 | Episodes: 33 | Win count: 176 | Win rate: 0.620 | Time: 41.07 minutes\n",
      "Epoch: 284/14999 | Loss: 0.0022 | Episodes: 4 | Win count: 177 | Win rate: 0.621 | Time: 41.08 minutes\n",
      "Epoch: 285/14999 | Loss: 0.0200 | Episodes: 23 | Win count: 178 | Win rate: 0.622 | Time: 41.12 minutes\n",
      "Epoch: 286/14999 | Loss: 0.0442 | Episodes: 43 | Win count: 179 | Win rate: 0.624 | Time: 41.21 minutes\n",
      "Epoch: 287/14999 | Loss: 0.0418 | Episodes: 37 | Win count: 180 | Win rate: 0.625 | Time: 41.28 minutes\n",
      "Epoch: 288/14999 | Loss: 0.0251 | Episodes: 24 | Win count: 181 | Win rate: 0.626 | Time: 41.33 minutes\n",
      "Epoch: 289/14999 | Loss: 0.0210 | Episodes: 25 | Win count: 182 | Win rate: 0.628 | Time: 41.39 minutes\n",
      "Epoch: 290/14999 | Loss: 0.0025 | Episodes: 3 | Win count: 183 | Win rate: 0.629 | Time: 41.40 minutes\n",
      "Epoch: 291/14999 | Loss: 0.0399 | Episodes: 43 | Win count: 184 | Win rate: 0.630 | Time: 41.52 minutes\n",
      "Epoch: 292/14999 | Loss: 0.0018 | Episodes: 2 | Win count: 185 | Win rate: 0.631 | Time: 41.53 minutes\n",
      "Epoch: 293/14999 | Loss: 0.0273 | Episodes: 26 | Win count: 186 | Win rate: 0.633 | Time: 41.60 minutes\n",
      "Epoch: 294/14999 | Loss: 0.0154 | Episodes: 17 | Win count: 187 | Win rate: 0.634 | Time: 41.64 minutes\n",
      "Epoch: 295/14999 | Loss: 0.0015 | Episodes: 2 | Win count: 188 | Win rate: 0.635 | Time: 41.65 minutes\n",
      "Epoch: 296/14999 | Loss: 0.0025 | Episodes: 4 | Win count: 189 | Win rate: 0.636 | Time: 41.66 minutes\n",
      "Epoch: 297/14999 | Loss: 0.0326 | Episodes: 39 | Win count: 190 | Win rate: 0.638 | Time: 41.74 minutes\n",
      "Epoch: 298/14999 | Loss: 0.0153 | Episodes: 14 | Win count: 191 | Win rate: 0.639 | Time: 41.77 minutes\n",
      "Epoch: 299/14999 | Loss: 0.0253 | Episodes: 23 | Win count: 192 | Win rate: 0.640 | Time: 41.82 minutes\n",
      "Epoch: 300/14999 | Loss: 0.0178 | Episodes: 16 | Win count: 193 | Win rate: 0.641 | Time: 41.85 minutes\n",
      "Epoch: 301/14999 | Loss: 0.0148 | Episodes: 18 | Win count: 194 | Win rate: 0.642 | Time: 41.91 minutes\n",
      "Epoch: 302/14999 | Loss: 0.0261 | Episodes: 24 | Win count: 195 | Win rate: 0.644 | Time: 41.97 minutes\n",
      "Epoch: 303/14999 | Loss: 0.0326 | Episodes: 27 | Win count: 196 | Win rate: 0.645 | Time: 42.03 minutes\n",
      "Epoch: 304/14999 | Loss: 0.0462 | Episodes: 42 | Win count: 197 | Win rate: 0.646 | Time: 42.14 minutes\n",
      "Epoch: 305/14999 | Loss: 0.0287 | Episodes: 27 | Win count: 198 | Win rate: 0.647 | Time: 42.19 minutes\n",
      "Epoch: 306/14999 | Loss: 0.0539 | Episodes: 46 | Win count: 199 | Win rate: 0.648 | Time: 42.29 minutes\n",
      "Epoch: 307/14999 | Loss: 0.0070 | Episodes: 7 | Win count: 200 | Win rate: 0.649 | Time: 42.31 minutes\n",
      "Epoch: 308/14999 | Loss: 0.0289 | Episodes: 29 | Win count: 201 | Win rate: 0.650 | Time: 42.38 minutes\n",
      "Epoch: 309/14999 | Loss: 0.0037 | Episodes: 6 | Win count: 202 | Win rate: 0.652 | Time: 42.39 minutes\n",
      "Epoch: 310/14999 | Loss: 0.0121 | Episodes: 14 | Win count: 203 | Win rate: 0.653 | Time: 42.42 minutes\n",
      "Reached 100% win rate at epoch: 310\n",
      "n_epoch: 310, max_mem: 512, data: 32, time: 42.44 minutes\n"
     ]
    },
    {
     "data": {
      "text/plain": [
       "2546.221186"
      ]
     },
     "execution_count": 79,
     "metadata": {},
     "output_type": "execute_result"
    }
   ],
   "source": [
    "model = build_model(maze)\n",
    "qtrain(model, maze, epochs=1000, max_memory=8*maze.size, data_size=32)"
   ]
  },
  {
   "cell_type": "markdown",
   "metadata": {},
   "source": [
    "This cell will check to see if the model passes the completion check. Note: This could take several minutes."
   ]
  },
  {
   "cell_type": "code",
   "execution_count": 80,
   "metadata": {},
   "outputs": [
    {
     "data": {
      "text/plain": [
       "<matplotlib.image.AxesImage at 0x20d88848b88>"
      ]
     },
     "execution_count": 80,
     "metadata": {},
     "output_type": "execute_result"
    },
    {
     "data": {
      "image/png": "[encoded data removed]",
      "text/plain": [
       "<Figure size 432x288 with 1 Axes>"
      ]
     },
     "metadata": {
      "needs_background": "light"
     },
     "output_type": "display_data"
    }
   ],
   "source": [
    "completion_check(model, qmaze)\n",
    "show(qmaze)"
   ]
  },
  {
   "cell_type": "markdown",
   "metadata": {},
   "source": [
    "This cell will test your model for one game. It will start the pirate at the top-left corner and run play_game. The agent should find a path from the starting position to the target (treasure). The treasure is located in the bottom-right corner."
   ]
  },
  {
   "cell_type": "code",
   "execution_count": 81,
   "metadata": {},
   "outputs": [
    {
     "data": {
      "text/plain": [
       "<matplotlib.image.AxesImage at 0x20d90467188>"
      ]
     },
     "execution_count": 81,
     "metadata": {},
     "output_type": "execute_result"
    },
    {
     "data": {
      "image/png": "[encoded data removed]",
      "text/plain": [
       "<Figure size 432x288 with 1 Axes>"
      ]
     },
     "metadata": {
      "needs_background": "light"
     },
     "output_type": "display_data"
    }
   ],
   "source": [
    "pirate_start = (0, 0)\n",
    "play_game(model, qmaze, pirate_start)\n",
    "show(qmaze)"
   ]
  },
  {
   "cell_type": "markdown",
   "metadata": {},
   "source": [
    "## Save and Submit Your Work\n",
    "After you have finished creating the code for your notebook, save your work. Make sure that your notebook contains your name in the filename (e.g. Doe_Jane_ProjectTwo.ipynb). This will help your instructor access and grade your work easily. Download a copy of your IPYNB file and submit it to Brightspace. Refer to the Jupyter Notebook in Apporto Tutorial if you need help with these tasks."
   ]
  }
 ],
 "metadata": {
  "kernelspec": {
   "display_name": "Python 3",
   "language": "python",
   "name": "python3"
  },
  "language_info": {
   "codemirror_mode": {
    "name": "ipython",
    "version": 3
   },
   "file_extension": ".py",
   "mimetype": "text/x-python",
   "name": "python",
   "nbconvert_exporter": "python",
   "pygments_lexer": "ipython3",
   "version": "3.7.4"
  }
 },
 "nbformat": 4,
 "nbformat_minor": 2
}
